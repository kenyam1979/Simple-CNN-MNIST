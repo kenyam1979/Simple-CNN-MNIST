{
  "nbformat": 4,
  "nbformat_minor": 0,
  "metadata": {
    "colab": {
      "name": "Test_R_with_BQ.ipynb",
      "provenance": [],
      "toc_visible": true,
      "authorship_tag": "ABX9TyMErx+wyQnZjq/dBB/8YczB",
      "include_colab_link": true
    },
    "kernelspec": {
      "name": "ir",
      "display_name": "R"
    },
    "language_info": {
      "name": "R"
    }
  },
  "cells": [
    {
      "cell_type": "markdown",
      "metadata": {
        "id": "view-in-github",
        "colab_type": "text"
      },
      "source": [
        "<a href=\"https://colab.research.google.com/github/kenyam1979/Test-colab/blob/main/Test_R_with_BQ.ipynb\" target=\"_parent\"><img src=\"https://colab.research.google.com/assets/colab-badge.svg\" alt=\"Open In Colab\"/></a>"
      ]
    },
    {
      "cell_type": "markdown",
      "source": [
        "#Quick test for bigquery from R on Colab"
      ],
      "metadata": {
        "id": "gajy7zyfLUOY"
      }
    },
    {
      "cell_type": "markdown",
      "source": [
        "##Initialization"
      ],
      "metadata": {
        "id": "sUN-bb3KMqRU"
      }
    },
    {
      "cell_type": "code",
      "execution_count": null,
      "metadata": {
        "id": "p8OZqTbT0ovu"
      },
      "outputs": [],
      "source": [
        "install.packages(\"bigrquery\")\n",
        "install.packages(\"wk\")\n",
        "library(bigrquery)\n",
        "library(wk)\n",
        "library(tidyverse)"
      ]
    },
    {
      "cell_type": "markdown",
      "source": [
        "Note: The below is added to fix some errors for using bigquery library"
      ],
      "metadata": {
        "id": "jP5llmoHLlph"
      }
    },
    {
      "cell_type": "code",
      "source": [
        "if (file.exists(\"/usr/local/lib/python3.7/dist-packages/google/colab/_ipython.py\")) {\n",
        "  install.packages(\"R.utils\")\n",
        "  library(\"R.utils\")\n",
        "  library(\"httr\")\n",
        "  my_check <- function() {return(TRUE)}\n",
        "  reassignInPackage(\"is_interactive\", pkgName = \"httr\", my_check) \n",
        "  options(rlang_interactive=TRUE)\n",
        "}"
      ],
      "metadata": {
        "id": "i47tFMP31FV5"
      },
      "execution_count": null,
      "outputs": []
    },
    {
      "cell_type": "code",
      "source": [
        "bq_auth(use_oob = TRUE, cache = FALSE)\n"
      ],
      "metadata": {
        "id": "J5WqI1gf05mc"
      },
      "execution_count": null,
      "outputs": []
    },
    {
      "cell_type": "markdown",
      "source": [
        "##Query setting"
      ],
      "metadata": {
        "id": "XhxKydihMVe6"
      }
    },
    {
      "cell_type": "code",
      "source": [
        "projectid <- \"********\"\n",
        "sql <- \"SELECT * FROM `bigquery-public-data.covid19_open_data.covid19_open_data`　WHERE country_code='JP' AND aggregation_level=0\""
      ],
      "metadata": {
        "id": "5jFcD2Cy1Sih"
      },
      "execution_count": null,
      "outputs": []
    },
    {
      "cell_type": "code",
      "source": [
        "tb <- bq_project_query(projectid, sql)\n",
        "df <- bq_table_download(tb)\n"
      ],
      "metadata": {
        "colab": {
          "base_uri": "https://localhost:8080/"
        },
        "id": "788rJpfx1rB3",
        "outputId": "8d82c53c-572b-4e1c-eda7-3d595797e436"
      },
      "execution_count": null,
      "outputs": [
        {
          "output_type": "stream",
          "name": "stderr",
          "text": [
            "Auto-refreshing stale OAuth token.\n",
            "\n",
            "Warning message in as.integer.integer64(x):\n",
            "“NAs produced by integer overflow”\n",
            "Warning message in as.integer.integer64(x):\n",
            "“NAs produced by integer overflow”\n",
            "Warning message in as.integer.integer64(x):\n",
            "“NAs produced by integer overflow”\n",
            "Warning message in as.integer.integer64(x):\n",
            "“NAs produced by integer overflow”\n",
            "Warning message in as.integer.integer64(x):\n",
            "“NAs produced by integer overflow”\n"
          ]
        }
      ]
    },
    {
      "cell_type": "markdown",
      "source": [
        "##Data manipulation\n"
      ],
      "metadata": {
        "id": "EGKZIBRcMc0U"
      }
    },
    {
      "cell_type": "code",
      "source": [
        "head(df)"
      ],
      "metadata": {
        "colab": {
          "base_uri": "https://localhost:8080/",
          "height": 410
        },
        "id": "6Xy6Z0733RYb",
        "outputId": "e9d2e2d7-f1b9-46b3-80a2-65358f1037c4"
      },
      "execution_count": null,
      "outputs": [
        {
          "output_type": "display_data",
          "data": {
            "text/html": [
              "<table class=\"dataframe\">\n",
              "<caption>A tibble: 6 × 701</caption>\n",
              "<thead>\n",
              "\t<tr><th scope=col>location_key</th><th scope=col>date</th><th scope=col>place_id</th><th scope=col>wikidata_id</th><th scope=col>datacommons_id</th><th scope=col>country_code</th><th scope=col>country_name</th><th scope=col>iso_3166_1_alpha_2</th><th scope=col>iso_3166_1_alpha_3</th><th scope=col>aggregation_level</th><th scope=col>⋯</th><th scope=col>cumulative_vaccine_doses_administered_pfizer</th><th scope=col>new_persons_fully_vaccinated_moderna</th><th scope=col>cumulative_persons_fully_vaccinated_moderna</th><th scope=col>new_vaccine_doses_administered_moderna</th><th scope=col>cumulative_vaccine_doses_administered_moderna</th><th scope=col>new_persons_fully_vaccinated_janssen</th><th scope=col>cumulative_persons_fully_vaccinated_janssen</th><th scope=col>new_vaccine_doses_administered_janssen</th><th scope=col>cumulative_vaccine_doses_administered_janssen</th><th scope=col>location_geometry</th></tr>\n",
              "\t<tr><th scope=col>&lt;chr&gt;</th><th scope=col>&lt;date&gt;</th><th scope=col>&lt;chr&gt;</th><th scope=col>&lt;chr&gt;</th><th scope=col>&lt;chr&gt;</th><th scope=col>&lt;chr&gt;</th><th scope=col>&lt;chr&gt;</th><th scope=col>&lt;chr&gt;</th><th scope=col>&lt;chr&gt;</th><th scope=col>&lt;int&gt;</th><th scope=col>⋯</th><th scope=col>&lt;int&gt;</th><th scope=col>&lt;int&gt;</th><th scope=col>&lt;int&gt;</th><th scope=col>&lt;int&gt;</th><th scope=col>&lt;int&gt;</th><th scope=col>&lt;int&gt;</th><th scope=col>&lt;int&gt;</th><th scope=col>&lt;int&gt;</th><th scope=col>&lt;int&gt;</th><th scope=col>&lt;wk_wkt&gt;</th></tr>\n",
              "</thead>\n",
              "<tbody>\n",
              "\t<tr><td>JP</td><td>2020-07-24</td><td>ChIJLxl_1w9OZzQRRFJmfNR1QvU</td><td>Q17</td><td>country/JPN</td><td>JP</td><td>Japan</td><td>JP</td><td>JPN</td><td>0</td><td>⋯</td><td>NA</td><td>NA</td><td>NA</td><td>NA</td><td>NA</td><td>NA</td><td>NA</td><td>NA</td><td>NA</td><td>POINT (136 35)</td></tr>\n",
              "\t<tr><td>JP</td><td>2020-07-25</td><td>ChIJLxl_1w9OZzQRRFJmfNR1QvU</td><td>Q17</td><td>country/JPN</td><td>JP</td><td>Japan</td><td>JP</td><td>JPN</td><td>0</td><td>⋯</td><td>NA</td><td>NA</td><td>NA</td><td>NA</td><td>NA</td><td>NA</td><td>NA</td><td>NA</td><td>NA</td><td>POINT (136 35)</td></tr>\n",
              "\t<tr><td>JP</td><td>2021-02-27</td><td>ChIJLxl_1w9OZzQRRFJmfNR1QvU</td><td>Q17</td><td>country/JPN</td><td>JP</td><td>Japan</td><td>JP</td><td>JPN</td><td>0</td><td>⋯</td><td>NA</td><td>NA</td><td>NA</td><td>NA</td><td>NA</td><td>NA</td><td>NA</td><td>NA</td><td>NA</td><td>POINT (136 35)</td></tr>\n",
              "\t<tr><td>JP</td><td>2021-02-28</td><td>ChIJLxl_1w9OZzQRRFJmfNR1QvU</td><td>Q17</td><td>country/JPN</td><td>JP</td><td>Japan</td><td>JP</td><td>JPN</td><td>0</td><td>⋯</td><td>NA</td><td>NA</td><td>NA</td><td>NA</td><td>NA</td><td>NA</td><td>NA</td><td>NA</td><td>NA</td><td>POINT (136 35)</td></tr>\n",
              "\t<tr><td>JP</td><td>2020-02-02</td><td>ChIJLxl_1w9OZzQRRFJmfNR1QvU</td><td>Q17</td><td>country/JPN</td><td>JP</td><td>Japan</td><td>JP</td><td>JPN</td><td>0</td><td>⋯</td><td>NA</td><td>NA</td><td>NA</td><td>NA</td><td>NA</td><td>NA</td><td>NA</td><td>NA</td><td>NA</td><td>POINT (136 35)</td></tr>\n",
              "\t<tr><td>JP</td><td>2020-07-23</td><td>ChIJLxl_1w9OZzQRRFJmfNR1QvU</td><td>Q17</td><td>country/JPN</td><td>JP</td><td>Japan</td><td>JP</td><td>JPN</td><td>0</td><td>⋯</td><td>NA</td><td>NA</td><td>NA</td><td>NA</td><td>NA</td><td>NA</td><td>NA</td><td>NA</td><td>NA</td><td>POINT (136 35)</td></tr>\n",
              "</tbody>\n",
              "</table>\n"
            ],
            "text/markdown": "\nA tibble: 6 × 701\n\n| location_key &lt;chr&gt; | date &lt;date&gt; | place_id &lt;chr&gt; | wikidata_id &lt;chr&gt; | datacommons_id &lt;chr&gt; | country_code &lt;chr&gt; | country_name &lt;chr&gt; | iso_3166_1_alpha_2 &lt;chr&gt; | iso_3166_1_alpha_3 &lt;chr&gt; | aggregation_level &lt;int&gt; | ⋯ ⋯ | cumulative_vaccine_doses_administered_pfizer &lt;int&gt; | new_persons_fully_vaccinated_moderna &lt;int&gt; | cumulative_persons_fully_vaccinated_moderna &lt;int&gt; | new_vaccine_doses_administered_moderna &lt;int&gt; | cumulative_vaccine_doses_administered_moderna &lt;int&gt; | new_persons_fully_vaccinated_janssen &lt;int&gt; | cumulative_persons_fully_vaccinated_janssen &lt;int&gt; | new_vaccine_doses_administered_janssen &lt;int&gt; | cumulative_vaccine_doses_administered_janssen &lt;int&gt; | location_geometry &lt;wk_wkt&gt; |\n|---|---|---|---|---|---|---|---|---|---|---|---|---|---|---|---|---|---|---|---|---|\n| JP | 2020-07-24 | ChIJLxl_1w9OZzQRRFJmfNR1QvU | Q17 | country/JPN | JP | Japan | JP | JPN | 0 | ⋯ | NA | NA | NA | NA | NA | NA | NA | NA | NA | POINT (136 35) |\n| JP | 2020-07-25 | ChIJLxl_1w9OZzQRRFJmfNR1QvU | Q17 | country/JPN | JP | Japan | JP | JPN | 0 | ⋯ | NA | NA | NA | NA | NA | NA | NA | NA | NA | POINT (136 35) |\n| JP | 2021-02-27 | ChIJLxl_1w9OZzQRRFJmfNR1QvU | Q17 | country/JPN | JP | Japan | JP | JPN | 0 | ⋯ | NA | NA | NA | NA | NA | NA | NA | NA | NA | POINT (136 35) |\n| JP | 2021-02-28 | ChIJLxl_1w9OZzQRRFJmfNR1QvU | Q17 | country/JPN | JP | Japan | JP | JPN | 0 | ⋯ | NA | NA | NA | NA | NA | NA | NA | NA | NA | POINT (136 35) |\n| JP | 2020-02-02 | ChIJLxl_1w9OZzQRRFJmfNR1QvU | Q17 | country/JPN | JP | Japan | JP | JPN | 0 | ⋯ | NA | NA | NA | NA | NA | NA | NA | NA | NA | POINT (136 35) |\n| JP | 2020-07-23 | ChIJLxl_1w9OZzQRRFJmfNR1QvU | Q17 | country/JPN | JP | Japan | JP | JPN | 0 | ⋯ | NA | NA | NA | NA | NA | NA | NA | NA | NA | POINT (136 35) |\n\n",
            "text/latex": "A tibble: 6 × 701\n\\begin{tabular}{lllllllllllllllllllll}\n location\\_key & date & place\\_id & wikidata\\_id & datacommons\\_id & country\\_code & country\\_name & iso\\_3166\\_1\\_alpha\\_2 & iso\\_3166\\_1\\_alpha\\_3 & aggregation\\_level & ⋯ & cumulative\\_vaccine\\_doses\\_administered\\_pfizer & new\\_persons\\_fully\\_vaccinated\\_moderna & cumulative\\_persons\\_fully\\_vaccinated\\_moderna & new\\_vaccine\\_doses\\_administered\\_moderna & cumulative\\_vaccine\\_doses\\_administered\\_moderna & new\\_persons\\_fully\\_vaccinated\\_janssen & cumulative\\_persons\\_fully\\_vaccinated\\_janssen & new\\_vaccine\\_doses\\_administered\\_janssen & cumulative\\_vaccine\\_doses\\_administered\\_janssen & location\\_geometry\\\\\n <chr> & <date> & <chr> & <chr> & <chr> & <chr> & <chr> & <chr> & <chr> & <int> & ⋯ & <int> & <int> & <int> & <int> & <int> & <int> & <int> & <int> & <int> & <wk\\_wkt>\\\\\n\\hline\n\t JP & 2020-07-24 & ChIJLxl\\_1w9OZzQRRFJmfNR1QvU & Q17 & country/JPN & JP & Japan & JP & JPN & 0 & ⋯ & NA & NA & NA & NA & NA & NA & NA & NA & NA & POINT (136 35)\\\\\n\t JP & 2020-07-25 & ChIJLxl\\_1w9OZzQRRFJmfNR1QvU & Q17 & country/JPN & JP & Japan & JP & JPN & 0 & ⋯ & NA & NA & NA & NA & NA & NA & NA & NA & NA & POINT (136 35)\\\\\n\t JP & 2021-02-27 & ChIJLxl\\_1w9OZzQRRFJmfNR1QvU & Q17 & country/JPN & JP & Japan & JP & JPN & 0 & ⋯ & NA & NA & NA & NA & NA & NA & NA & NA & NA & POINT (136 35)\\\\\n\t JP & 2021-02-28 & ChIJLxl\\_1w9OZzQRRFJmfNR1QvU & Q17 & country/JPN & JP & Japan & JP & JPN & 0 & ⋯ & NA & NA & NA & NA & NA & NA & NA & NA & NA & POINT (136 35)\\\\\n\t JP & 2020-02-02 & ChIJLxl\\_1w9OZzQRRFJmfNR1QvU & Q17 & country/JPN & JP & Japan & JP & JPN & 0 & ⋯ & NA & NA & NA & NA & NA & NA & NA & NA & NA & POINT (136 35)\\\\\n\t JP & 2020-07-23 & ChIJLxl\\_1w9OZzQRRFJmfNR1QvU & Q17 & country/JPN & JP & Japan & JP & JPN & 0 & ⋯ & NA & NA & NA & NA & NA & NA & NA & NA & NA & POINT (136 35)\\\\\n\\end{tabular}\n",
            "text/plain": [
              "  location_key date       place_id                    wikidata_id\n",
              "1 JP           2020-07-24 ChIJLxl_1w9OZzQRRFJmfNR1QvU Q17        \n",
              "2 JP           2020-07-25 ChIJLxl_1w9OZzQRRFJmfNR1QvU Q17        \n",
              "3 JP           2021-02-27 ChIJLxl_1w9OZzQRRFJmfNR1QvU Q17        \n",
              "4 JP           2021-02-28 ChIJLxl_1w9OZzQRRFJmfNR1QvU Q17        \n",
              "5 JP           2020-02-02 ChIJLxl_1w9OZzQRRFJmfNR1QvU Q17        \n",
              "6 JP           2020-07-23 ChIJLxl_1w9OZzQRRFJmfNR1QvU Q17        \n",
              "  datacommons_id country_code country_name iso_3166_1_alpha_2\n",
              "1 country/JPN    JP           Japan        JP                \n",
              "2 country/JPN    JP           Japan        JP                \n",
              "3 country/JPN    JP           Japan        JP                \n",
              "4 country/JPN    JP           Japan        JP                \n",
              "5 country/JPN    JP           Japan        JP                \n",
              "6 country/JPN    JP           Japan        JP                \n",
              "  iso_3166_1_alpha_3 aggregation_level ⋯\n",
              "1 JPN                0                 ⋯\n",
              "2 JPN                0                 ⋯\n",
              "3 JPN                0                 ⋯\n",
              "4 JPN                0                 ⋯\n",
              "5 JPN                0                 ⋯\n",
              "6 JPN                0                 ⋯\n",
              "  cumulative_vaccine_doses_administered_pfizer\n",
              "1 NA                                          \n",
              "2 NA                                          \n",
              "3 NA                                          \n",
              "4 NA                                          \n",
              "5 NA                                          \n",
              "6 NA                                          \n",
              "  new_persons_fully_vaccinated_moderna\n",
              "1 NA                                  \n",
              "2 NA                                  \n",
              "3 NA                                  \n",
              "4 NA                                  \n",
              "5 NA                                  \n",
              "6 NA                                  \n",
              "  cumulative_persons_fully_vaccinated_moderna\n",
              "1 NA                                         \n",
              "2 NA                                         \n",
              "3 NA                                         \n",
              "4 NA                                         \n",
              "5 NA                                         \n",
              "6 NA                                         \n",
              "  new_vaccine_doses_administered_moderna\n",
              "1 NA                                    \n",
              "2 NA                                    \n",
              "3 NA                                    \n",
              "4 NA                                    \n",
              "5 NA                                    \n",
              "6 NA                                    \n",
              "  cumulative_vaccine_doses_administered_moderna\n",
              "1 NA                                           \n",
              "2 NA                                           \n",
              "3 NA                                           \n",
              "4 NA                                           \n",
              "5 NA                                           \n",
              "6 NA                                           \n",
              "  new_persons_fully_vaccinated_janssen\n",
              "1 NA                                  \n",
              "2 NA                                  \n",
              "3 NA                                  \n",
              "4 NA                                  \n",
              "5 NA                                  \n",
              "6 NA                                  \n",
              "  cumulative_persons_fully_vaccinated_janssen\n",
              "1 NA                                         \n",
              "2 NA                                         \n",
              "3 NA                                         \n",
              "4 NA                                         \n",
              "5 NA                                         \n",
              "6 NA                                         \n",
              "  new_vaccine_doses_administered_janssen\n",
              "1 NA                                    \n",
              "2 NA                                    \n",
              "3 NA                                    \n",
              "4 NA                                    \n",
              "5 NA                                    \n",
              "6 NA                                    \n",
              "  cumulative_vaccine_doses_administered_janssen location_geometry\n",
              "1 NA                                            POINT (136 35)   \n",
              "2 NA                                            POINT (136 35)   \n",
              "3 NA                                            POINT (136 35)   \n",
              "4 NA                                            POINT (136 35)   \n",
              "5 NA                                            POINT (136 35)   \n",
              "6 NA                                            POINT (136 35)   "
            ]
          },
          "metadata": {}
        }
      ]
    },
    {
      "cell_type": "code",
      "source": [
        "df %>% ggplot() + geom_line(aes(x=date, y=new_confirmed))"
      ],
      "metadata": {
        "colab": {
          "base_uri": "https://localhost:8080/",
          "height": 472
        },
        "id": "_ngC3QgD43BT",
        "outputId": "a9e86fd5-4845-4799-a7d2-bf2b48eba4e9"
      },
      "execution_count": null,
      "outputs": [
        {
          "output_type": "stream",
          "name": "stderr",
          "text": [
            "Warning message:\n",
            "“Removed 2 row(s) containing missing values (geom_path).”\n"
          ]
        },
        {
          "output_type": "display_data",
          "data": {
            "text/plain": [
              "plot without title"
            ],
            "image/png": "[encoded data removed]"
          },
          "metadata": {
            "image/png": {
              "width": 420,
              "height": 420
            }
          }
        }
      ]
    }
  ]
}