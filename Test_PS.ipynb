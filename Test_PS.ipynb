{
  "nbformat": 4,
  "nbformat_minor": 0,
  "metadata": {
    "colab": {
      "name": "Test_PS.ipynb",
      "provenance": [],
      "authorship_tag": "ABX9TyOVX3rQ1xBWgGfb4rMX226H",
      "include_colab_link": true
    },
    "kernelspec": {
      "name": "ir",
      "display_name": "R"
    },
    "language_info": {
      "name": "R"
    }
  },
  "cells": [
    {
      "cell_type": "markdown",
      "metadata": {
        "id": "view-in-github",
        "colab_type": "text"
      },
      "source": [
        "<a href=\"https://colab.research.google.com/github/kenyam1979/Test-colab/blob/main/Test_PS.ipynb\" target=\"_parent\"><img src=\"https://colab.research.google.com/assets/colab-badge.svg\" alt=\"Open In Colab\"/></a>"
      ]
    },
    {
      "cell_type": "code",
      "execution_count": 9,
      "metadata": {
        "id": "CgML-oy7_Lcd"
      },
      "outputs": [],
      "source": [
        "library(tidyverse)"
      ]
    },
    {
      "cell_type": "code",
      "source": [
        "data <- read_csv(\"http://www.minethatdata.com/Kevin_Hillstrom_MineThatData_E-MailAnalytics_DataMiningChallenge_2008.03.20.csv\")"
      ],
      "metadata": {
        "colab": {
          "base_uri": "https://localhost:8080/"
        },
        "id": "mWogKKAa_RX_",
        "outputId": "533bf5f8-184d-4f97-b779-8a3ca05c454f"
      },
      "execution_count": 10,
      "outputs": [
        {
          "output_type": "stream",
          "name": "stderr",
          "text": [
            "\u001b[1mRows: \u001b[22m\u001b[34m64000\u001b[39m \u001b[1mColumns: \u001b[22m\u001b[34m12\u001b[39m\n",
            "\u001b[36m──\u001b[39m \u001b[1mColumn specification\u001b[22m \u001b[36m────────────────────────────────────────────────────────\u001b[39m\n",
            "\u001b[1mDelimiter:\u001b[22m \",\"\n",
            "\u001b[31mchr\u001b[39m (4): history_segment, zip_code, channel, segment\n",
            "\u001b[32mdbl\u001b[39m (8): recency, history, mens, womens, newbie, visit, conversion, spend\n",
            "\n",
            "\u001b[36mℹ\u001b[39m Use `spec()` to retrieve the full column specification for this data.\n",
            "\u001b[36mℹ\u001b[39m Specify the column types or set `show_col_types = FALSE` to quiet this message.\n"
          ]
        }
      ]
    },
    {
      "cell_type": "code",
      "source": [
        "head(data)"
      ],
      "metadata": {
        "colab": {
          "base_uri": "https://localhost:8080/",
          "height": 286
        },
        "id": "BjcuxN3r_aXu",
        "outputId": "0750a0a7-1bba-4712-e698-6715af6e1650"
      },
      "execution_count": 11,
      "outputs": [
        {
          "output_type": "display_data",
          "data": {
            "text/html": [
              "<table class=\"dataframe\">\n",
              "<caption>A tibble: 6 × 12</caption>\n",
              "<thead>\n",
              "\t<tr><th scope=col>recency</th><th scope=col>history_segment</th><th scope=col>history</th><th scope=col>mens</th><th scope=col>womens</th><th scope=col>zip_code</th><th scope=col>newbie</th><th scope=col>channel</th><th scope=col>segment</th><th scope=col>visit</th><th scope=col>conversion</th><th scope=col>spend</th></tr>\n",
              "\t<tr><th scope=col>&lt;dbl&gt;</th><th scope=col>&lt;chr&gt;</th><th scope=col>&lt;dbl&gt;</th><th scope=col>&lt;dbl&gt;</th><th scope=col>&lt;dbl&gt;</th><th scope=col>&lt;chr&gt;</th><th scope=col>&lt;dbl&gt;</th><th scope=col>&lt;chr&gt;</th><th scope=col>&lt;chr&gt;</th><th scope=col>&lt;dbl&gt;</th><th scope=col>&lt;dbl&gt;</th><th scope=col>&lt;dbl&gt;</th></tr>\n",
              "</thead>\n",
              "<tbody>\n",
              "\t<tr><td>10</td><td>2) $100 - $200</td><td>142.44</td><td>1</td><td>0</td><td>Surburban</td><td>0</td><td>Phone</td><td>Womens E-Mail</td><td>0</td><td>0</td><td>0</td></tr>\n",
              "\t<tr><td> 6</td><td>3) $200 - $350</td><td>329.08</td><td>1</td><td>1</td><td>Rural    </td><td>1</td><td>Web  </td><td>No E-Mail    </td><td>0</td><td>0</td><td>0</td></tr>\n",
              "\t<tr><td> 7</td><td>2) $100 - $200</td><td>180.65</td><td>0</td><td>1</td><td>Surburban</td><td>1</td><td>Web  </td><td>Womens E-Mail</td><td>0</td><td>0</td><td>0</td></tr>\n",
              "\t<tr><td> 9</td><td>5) $500 - $750</td><td>675.83</td><td>1</td><td>0</td><td>Rural    </td><td>1</td><td>Web  </td><td>Mens E-Mail  </td><td>0</td><td>0</td><td>0</td></tr>\n",
              "\t<tr><td> 2</td><td>1) $0 - $100  </td><td> 45.34</td><td>1</td><td>0</td><td>Urban    </td><td>0</td><td>Web  </td><td>Womens E-Mail</td><td>0</td><td>0</td><td>0</td></tr>\n",
              "\t<tr><td> 6</td><td>2) $100 - $200</td><td>134.83</td><td>0</td><td>1</td><td>Surburban</td><td>0</td><td>Phone</td><td>Womens E-Mail</td><td>1</td><td>0</td><td>0</td></tr>\n",
              "</tbody>\n",
              "</table>\n"
            ],
            "text/markdown": "\nA tibble: 6 × 12\n\n| recency &lt;dbl&gt; | history_segment &lt;chr&gt; | history &lt;dbl&gt; | mens &lt;dbl&gt; | womens &lt;dbl&gt; | zip_code &lt;chr&gt; | newbie &lt;dbl&gt; | channel &lt;chr&gt; | segment &lt;chr&gt; | visit &lt;dbl&gt; | conversion &lt;dbl&gt; | spend &lt;dbl&gt; |\n|---|---|---|---|---|---|---|---|---|---|---|---|\n| 10 | 2) $100 - $200 | 142.44 | 1 | 0 | Surburban | 0 | Phone | Womens E-Mail | 0 | 0 | 0 |\n|  6 | 3) $200 - $350 | 329.08 | 1 | 1 | Rural     | 1 | Web   | No E-Mail     | 0 | 0 | 0 |\n|  7 | 2) $100 - $200 | 180.65 | 0 | 1 | Surburban | 1 | Web   | Womens E-Mail | 0 | 0 | 0 |\n|  9 | 5) $500 - $750 | 675.83 | 1 | 0 | Rural     | 1 | Web   | Mens E-Mail   | 0 | 0 | 0 |\n|  2 | 1) $0 - $100   |  45.34 | 1 | 0 | Urban     | 0 | Web   | Womens E-Mail | 0 | 0 | 0 |\n|  6 | 2) $100 - $200 | 134.83 | 0 | 1 | Surburban | 0 | Phone | Womens E-Mail | 1 | 0 | 0 |\n\n",
            "text/latex": "A tibble: 6 × 12\n\\begin{tabular}{llllllllllll}\n recency & history\\_segment & history & mens & womens & zip\\_code & newbie & channel & segment & visit & conversion & spend\\\\\n <dbl> & <chr> & <dbl> & <dbl> & <dbl> & <chr> & <dbl> & <chr> & <chr> & <dbl> & <dbl> & <dbl>\\\\\n\\hline\n\t 10 & 2) \\$100 - \\$200 & 142.44 & 1 & 0 & Surburban & 0 & Phone & Womens E-Mail & 0 & 0 & 0\\\\\n\t  6 & 3) \\$200 - \\$350 & 329.08 & 1 & 1 & Rural     & 1 & Web   & No E-Mail     & 0 & 0 & 0\\\\\n\t  7 & 2) \\$100 - \\$200 & 180.65 & 0 & 1 & Surburban & 1 & Web   & Womens E-Mail & 0 & 0 & 0\\\\\n\t  9 & 5) \\$500 - \\$750 & 675.83 & 1 & 0 & Rural     & 1 & Web   & Mens E-Mail   & 0 & 0 & 0\\\\\n\t  2 & 1) \\$0 - \\$100   &  45.34 & 1 & 0 & Urban     & 0 & Web   & Womens E-Mail & 0 & 0 & 0\\\\\n\t  6 & 2) \\$100 - \\$200 & 134.83 & 0 & 1 & Surburban & 0 & Phone & Womens E-Mail & 1 & 0 & 0\\\\\n\\end{tabular}\n",
            "text/plain": [
              "  recency history_segment history mens womens zip_code  newbie channel\n",
              "1 10      2) $100 - $200  142.44  1    0      Surburban 0      Phone  \n",
              "2  6      3) $200 - $350  329.08  1    1      Rural     1      Web    \n",
              "3  7      2) $100 - $200  180.65  0    1      Surburban 1      Web    \n",
              "4  9      5) $500 - $750  675.83  1    0      Rural     1      Web    \n",
              "5  2      1) $0 - $100     45.34  1    0      Urban     0      Web    \n",
              "6  6      2) $100 - $200  134.83  0    1      Surburban 0      Phone  \n",
              "  segment       visit conversion spend\n",
              "1 Womens E-Mail 0     0          0    \n",
              "2 No E-Mail     0     0          0    \n",
              "3 Womens E-Mail 0     0          0    \n",
              "4 Mens E-Mail   0     0          0    \n",
              "5 Womens E-Mail 0     0          0    \n",
              "6 Womens E-Mail 1     0          0    "
            ]
          },
          "metadata": {}
        }
      ]
    },
    {
      "cell_type": "code",
      "source": [
        "data.male <- data %>% \n",
        "  filter(segment != \"Womens E-Mail\") %>%\n",
        "  mutate(treatment = if_else(segment == \"Mens E-Mail\", 1, 0))"
      ],
      "metadata": {
        "id": "MFBFhdtNADV7"
      },
      "execution_count": 14,
      "outputs": []
    },
    {
      "cell_type": "code",
      "source": [
        "set.seed(1)\n",
        "data.male.biased <- data.male %>%\n",
        "  mutate(obs.rate.c = if_else(\n",
        "    (history > 300) | (recency < 6) | (channel == \"Multichannel\"), \n",
        "    0.5, 1),\n",
        "    obs.rate.t = if_else(\n",
        "      (history > 300) | (recency < 6) | (channel == \"Multichannel\"), \n",
        "      1, 0.5),\n",
        "      random.number = runif(n = NROW(data.male))) %>%\n",
        "      filter((treatment == 0 & random.number < obs.rate.c) | (treatment == 1 & random.number < obs.rate.t)) \n"
      ],
      "metadata": {
        "id": "7sVvZV-sA6t9"
      },
      "execution_count": 15,
      "outputs": []
    },
    {
      "cell_type": "code",
      "source": [
        "data.male.biased %>%\n",
        "  group_by(segment) %>%\n",
        "  ggplot() + geom_boxplot(aes(x = segment, y=log(spend)))\n",
        "\n"
      ],
      "metadata": {
        "colab": {
          "base_uri": "https://localhost:8080/",
          "height": 472
        },
        "id": "DXjgeYFsC-_W",
        "outputId": "8e15567a-42bd-4eb3-e6e3-b3e2031309a0"
      },
      "execution_count": 16,
      "outputs": [
        {
          "output_type": "stream",
          "name": "stderr",
          "text": [
            "Warning message:\n",
            "“Removed 31559 rows containing non-finite values (stat_boxplot).”\n"
          ]
        },
        {
          "output_type": "display_data",
          "data": {
            "text/plain": [
              "plot without title"
            ],
            "image/png": "[encoded data removed]"
          },
          "metadata": {
            "image/png": {
              "width": 420,
              "height": 420
            }
          }
        }
      ]
    },
    {
      "cell_type": "code",
      "source": [
        "model <- lm(data=data.male.biased, formula = spend ~ treatment)\n",
        "summary(model)"
      ],
      "metadata": {
        "colab": {
          "base_uri": "https://localhost:8080/",
          "height": 329
        },
        "id": "F-VsG7XOE44x",
        "outputId": "f7ac36bd-4071-4257-8e49-7f884230fb73"
      },
      "execution_count": 26,
      "outputs": [
        {
          "output_type": "display_data",
          "data": {
            "text/plain": [
              "\n",
              "Call:\n",
              "lm(formula = spend ~ treatment, data = data.male.biased)\n",
              "\n",
              "Residuals:\n",
              "   Min     1Q Median     3Q    Max \n",
              " -1.53  -1.53  -1.53  -0.55 497.47 \n",
              "\n",
              "Coefficients:\n",
              "            Estimate Std. Error t value Pr(>|t|)    \n",
              "(Intercept)   0.5483     0.1269   4.321 1.56e-05 ***\n",
              "treatment     0.9794     0.1727   5.671 1.43e-08 ***\n",
              "---\n",
              "Signif. codes:  0 ‘***’ 0.001 ‘**’ 0.01 ‘*’ 0.05 ‘.’ 0.1 ‘ ’ 1\n",
              "\n",
              "Residual standard error: 15.37 on 31861 degrees of freedom\n",
              "Multiple R-squared:  0.001008,\tAdjusted R-squared:  0.000977 \n",
              "F-statistic: 32.16 on 1 and 31861 DF,  p-value: 1.433e-08\n"
            ]
          },
          "metadata": {}
        }
      ]
    },
    {
      "cell_type": "markdown",
      "source": [
        "##Propensity score + IPW"
      ],
      "metadata": {
        "id": "Vty2OCeQIAMa"
      }
    },
    {
      "cell_type": "code",
      "source": [
        "ps.model <- glm(data=data.male.biased, formula= treatment ~ recency + history + channel, family = binomial)\n",
        "data.male.biased <- data.male.biased %>% \n",
        "  mutate(ps = predict(ps.model, type=\"response\")) %>%\n",
        "  mutate(IPW = if_else(treatment == 1, 1/ps, 1/(1 - ps)))"
      ],
      "metadata": {
        "id": "FwcPYF3NIruG"
      },
      "execution_count": 43,
      "outputs": []
    },
    {
      "cell_type": "code",
      "source": [
        "model.IPW <- lm(data=data.male.biased, formula = spend ~ treatment, weights=data.male.biased$IPW)\n",
        "summary(model.IPW)"
      ],
      "metadata": {
        "colab": {
          "base_uri": "https://localhost:8080/",
          "height": 329
        },
        "id": "mpyPbOK9I_Zt",
        "outputId": "d6919866-f9bd-4b86-8063-3e4854875f6a"
      },
      "execution_count": 45,
      "outputs": [
        {
          "output_type": "display_data",
          "data": {
            "text/plain": [
              "\n",
              "Call:\n",
              "lm(formula = spend ~ treatment, data = data.male.biased, weights = data.male.biased$IPW)\n",
              "\n",
              "Weighted Residuals:\n",
              "   Min     1Q Median     3Q    Max \n",
              " -2.60  -1.91  -1.68  -0.82 883.53 \n",
              "\n",
              "Coefficients:\n",
              "            Estimate Std. Error t value Pr(>|t|)    \n",
              "(Intercept)   0.5805     0.1163   4.992 6.01e-07 ***\n",
              "treatment     0.8697     0.1650   5.272 1.36e-07 ***\n",
              "---\n",
              "Signif. codes:  0 ‘***’ 0.001 ‘**’ 0.01 ‘*’ 0.05 ‘.’ 0.1 ‘ ’ 1\n",
              "\n",
              "Residual standard error: 20.85 on 31861 degrees of freedom\n",
              "Multiple R-squared:  0.0008716,\tAdjusted R-squared:  0.0008403 \n",
              "F-statistic:  27.8 on 1 and 31861 DF,  p-value: 1.357e-07\n"
            ]
          },
          "metadata": {}
        }
      ]
    },
    {
      "cell_type": "code",
      "source": [
        ""
      ],
      "metadata": {
        "id": "YHcN1cnuKJ4e"
      },
      "execution_count": null,
      "outputs": []
    }
  ]
}